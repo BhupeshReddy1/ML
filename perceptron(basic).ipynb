{
 "cells": [
  {
   "cell_type": "code",
   "execution_count": 6,
   "id": "ed58f695",
   "metadata": {},
   "outputs": [
    {
     "name": "stdout",
     "output_type": "stream",
     "text": [
      "predictions are [1 0 0 0]\n"
     ]
    }
   ],
   "source": [
    "import numpy as np\n",
    "def perceptron_train(X,y,lr=0.1,num_epochs=100):\n",
    "    #num_samples,num_features=X.shape\n",
    "    #print(num_samples)\n",
    "    #print(num_features)\n",
    "    num_samples=X.shape[0]\n",
    "    num_features=X.shape[1]\n",
    "    weights=np.zeros(num_features + 1)\n",
    "    for _ in range(num_epochs):\n",
    "        error_count=0\n",
    "        for i in range(num_samples):\n",
    "            activation=np.dot(X[i],weights[1:])+weights[0]\n",
    "            prediction=1 if activation>=0 else 0\n",
    "            error=y[i]-prediction\n",
    "            if error!=0:\n",
    "                #update weights\n",
    "                weights[1:]+=lr*X[i]*error\n",
    "                #update bias\n",
    "                weights[0]+=lr*error\n",
    "                error_count+=1\n",
    "        if error_count==0:\n",
    "            break\n",
    "    return weights\n",
    "def perceptron_predict(X,weights):\n",
    "    activation=np.dot(X,weights[1:])+weights[0]\n",
    "    #it checks the condition and if its true, it returns 1 else returns 0\n",
    "    return np.where(activation>=0,1,0)\n",
    "X=np.array([[1,1],[1,0],[1,0],[0,1]])\n",
    "y=np.array([1,0,0,0])\n",
    "#new_X = np.array([[1, 1], [1, 0], [0, 1], [0, 0]])\n",
    "\n",
    "weights=perceptron_train(X,y)\n",
    "new_X=np.array([[1, 1],[1, 0],[1, 0],[0, 1]])\n",
    "predictions=perceptron_predict(new_X, weights)\n",
    "print(\"predictions are\",predictions)"
   ]
  },
  {
   "cell_type": "code",
   "execution_count": null,
   "id": "af5828c3",
   "metadata": {},
   "outputs": [],
   "source": []
  }
 ],
 "metadata": {
  "kernelspec": {
   "display_name": "Python 3 (ipykernel)",
   "language": "python",
   "name": "python3"
  },
  "language_info": {
   "codemirror_mode": {
    "name": "ipython",
    "version": 3
   },
   "file_extension": ".py",
   "mimetype": "text/x-python",
   "name": "python",
   "nbconvert_exporter": "python",
   "pygments_lexer": "ipython3",
   "version": "3.10.9"
  }
 },
 "nbformat": 4,
 "nbformat_minor": 5
}
