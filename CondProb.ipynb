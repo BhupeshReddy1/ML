{
 "cells": [
  {
   "cell_type": "code",
   "execution_count": 4,
   "id": "88d3ee15",
   "metadata": {},
   "outputs": [
    {
     "ename": "TypeError",
     "evalue": "'TOTAL' is an invalid keyword argument for print()",
     "output_type": "error",
     "traceback": [
      "\u001b[1;31m---------------------------------------------------------------------------\u001b[0m",
      "\u001b[1;31mTypeError\u001b[0m                                 Traceback (most recent call last)",
      "Cell \u001b[1;32mIn[4], line 6\u001b[0m\n\u001b[0;32m      3\u001b[0m \u001b[38;5;28;01mimport\u001b[39;00m \u001b[38;5;21;01mpandas\u001b[39;00m \u001b[38;5;28;01mas\u001b[39;00m \u001b[38;5;21;01mpd\u001b[39;00m\n\u001b[0;32m      5\u001b[0m df \u001b[38;5;241m=\u001b[39m pd\u001b[38;5;241m.\u001b[39mread_csv(\u001b[38;5;124m\"\u001b[39m\u001b[38;5;124mread.csv\u001b[39m\u001b[38;5;124m\"\u001b[39m)\n\u001b[1;32m----> 6\u001b[0m \u001b[38;5;28;43mprint\u001b[39;49m\u001b[43m(\u001b[49m\u001b[43mTOTAL\u001b[49m\u001b[38;5;241;43m=\u001b[39;49m\u001b[38;5;28;43mlen\u001b[39;49m\u001b[43m(\u001b[49m\u001b[43mdf\u001b[49m\u001b[43m)\u001b[49m\u001b[43m)\u001b[49m\n\u001b[0;32m      7\u001b[0m t\u001b[38;5;241m=\u001b[39m\u001b[38;5;241m0\u001b[39m\n\u001b[0;32m      8\u001b[0m \u001b[38;5;66;03m#finding unconditional prob of golf.\u001b[39;00m\n",
      "\u001b[1;31mTypeError\u001b[0m: 'TOTAL' is an invalid keyword argument for print()"
     ]
    }
   ],
   "source": [
    "import numpy as np\n",
    "import pandas as pd\n",
    "import pandas as pd\n",
    "\n",
    "df = pd.read_csv(\"read.csv\")\n",
    "TOTAL=len(df)\n",
    "\n",
    "t=0\n",
    "#finding unconditional prob of golf.\n",
    "for i in df['recreation']:\n",
    "    if i=='golf':\n",
    "        t+=1\n",
    "\n",
    "unconditional_prob=t/TOTAL\n",
    "print(f\"uncond of golf is: {unconditional_prob}\")\n",
    "#conditional prob of single given medrisk is Cond_prob\n",
    "\n",
    "count_medRisk=0\n",
    "count_medRisk=len(df[df['credit']=='medRisk'])\n",
    "\n",
    "df2=df[['status','credit']]\n",
    "m=0\n",
    "print(df2)\n",
    "x=len(df2[(df2['status']=='single') & (df2['credit']=='medRisk')])\n",
    "print(x)\n",
    "     \n",
    "print(count_medRisk)\n",
    "count_single_and_medRisk=x\n",
    "Cond_Prob=count_single_and_medRisk/count_medRisk\n",
    "print(Cond_Prob)\n",
    "\n"
   ]
  },
  {
   "cell_type": "code",
   "execution_count": null,
   "id": "154de8e0",
   "metadata": {},
   "outputs": [],
   "source": []
  },
  {
   "cell_type": "code",
   "execution_count": null,
   "id": "3be26dc8",
   "metadata": {},
   "outputs": [],
   "source": []
  }
 ],
 "metadata": {
  "kernelspec": {
   "display_name": "Python 3 (ipykernel)",
   "language": "python",
   "name": "python3"
  },
  "language_info": {
   "codemirror_mode": {
    "name": "ipython",
    "version": 3
   },
   "file_extension": ".py",
   "mimetype": "text/x-python",
   "name": "python",
   "nbconvert_exporter": "python",
   "pygments_lexer": "ipython3",
   "version": "3.10.9"
  }
 },
 "nbformat": 4,
 "nbformat_minor": 5
}
