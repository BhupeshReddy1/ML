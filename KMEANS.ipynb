{
 "cells": [
  {
   "cell_type": "code",
   "execution_count": 1,
   "id": "38c18318",
   "metadata": {},
   "outputs": [
    {
     "name": "stdout",
     "output_type": "stream",
     "text": [
      "Clusters:\n",
      "Cluster 1: [[10, 8], [8, 10], [9, 7], [7, 9]]\n",
      "Cluster 2: [[1, 2], [2, 1], [3, 4], [4, 3]]\n",
      "\n",
      "Centroids:\n",
      "Centroid 1: [8.5 8.5]\n",
      "Centroid 2: [2.5 2.5]\n",
      "\n",
      "The new data point belongs to Cluster 1\n"
     ]
    }
   ],
   "source": [
    "import random\n",
    "import numpy as np\n",
    "\n",
    "def k_means(data, k, max_iterations=100):\n",
    "    # Randomly initialize the centroids\n",
    "    centroids = random.sample(data, k)\n",
    "    \n",
    "    # Iterate a maximum of max_iterations times\n",
    "    for _ in range(max_iterations):\n",
    "        # Create empty clusters to store data points\n",
    "        clusters = [[] for _ in range(k)]\n",
    "        \n",
    "        # Assign each data point to the nearest centroid\n",
    "        for point in data:\n",
    "            distances = [np.linalg.norm(np.array(point) - np.array(centroid)) for centroid in centroids]\n",
    "            nearest_centroid_index = np.argmin(distances)\n",
    "            clusters[nearest_centroid_index].append(point)\n",
    "        \n",
    "        # Compute new centroids by taking the mean of each cluster\n",
    "        new_centroids = [np.mean(cluster, axis=0) for cluster in clusters]\n",
    "        \n",
    "        # Check if the centroids have converged\n",
    "        if np.array_equal(centroids, new_centroids):\n",
    "            break\n",
    "        \n",
    "        # Update the centroids\n",
    "        centroids = new_centroids\n",
    "    \n",
    "    return clusters, centroids\n",
    "\n",
    "def assign_to_cluster(new_point, centroids):\n",
    "    # Calculate distances between the new point and centroids\n",
    "    distances = [np.linalg.norm(np.array(new_point) - np.array(centroid)) for centroid in centroids]\n",
    "    # Find the index of the nearest centroid\n",
    "    nearest_centroid_index = np.argmin(distances)\n",
    "    return nearest_centroid_index\n",
    "\n",
    "# Example usage\n",
    "data = [[1, 2], [2, 1], [3, 4], [4, 3], [10, 8], [8, 10], [9, 7], [7, 9]]\n",
    "k = 2\n",
    "\n",
    "# Apply k-means clustering to the data\n",
    "clusters, centroids = k_means(data, k)\n",
    "\n",
    "# Print the final clusters and centroids\n",
    "print(\"Clusters:\")\n",
    "for i, cluster in enumerate(clusters):\n",
    "    print(f\"Cluster {i+1}: {cluster}\")\n",
    "    \n",
    "print(\"\\nCentroids:\")\n",
    "for i, centroid in enumerate(centroids):\n",
    "    print(f\"Centroid {i+1}: {centroid}\")\n",
    "\n",
    "# Test with a new data point\n",
    "new_data_point = [5, 6]\n",
    "cluster_index = assign_to_cluster(new_data_point, centroids)\n",
    "print(f\"\\nThe new data point belongs to Cluster {cluster_index+1}\")"
   ]
  },
  {
   "cell_type": "code",
   "execution_count": null,
   "id": "8fac6860",
   "metadata": {},
   "outputs": [],
   "source": []
  }
 ],
 "metadata": {
  "kernelspec": {
   "display_name": "Python 3 (ipykernel)",
   "language": "python",
   "name": "python3"
  },
  "language_info": {
   "codemirror_mode": {
    "name": "ipython",
    "version": 3
   },
   "file_extension": ".py",
   "mimetype": "text/x-python",
   "name": "python",
   "nbconvert_exporter": "python",
   "pygments_lexer": "ipython3",
   "version": "3.10.9"
  }
 },
 "nbformat": 4,
 "nbformat_minor": 5
}
