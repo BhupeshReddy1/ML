{
 "cells": [
  {
   "cell_type": "code",
   "execution_count": 13,
   "id": "e785fe6b",
   "metadata": {},
   "outputs": [
    {
     "name": "stdout",
     "output_type": "stream",
     "text": [
      "predicted class labels for it are :[0 1 1]\n"
     ]
    }
   ],
   "source": [
    "import numpy as np\n",
    "def euc_dist(point1,point2):\n",
    "    return np.sqrt(np.sum((point1-point2)**2))\n",
    "def knn(train_data,train_labels,test_data,k):\n",
    "    predictions=[]\n",
    "    for test_point in test_data:\n",
    "        distances=[]\n",
    "        for train_point in train_data:\n",
    "            dist=euc_dist(test_point,train_point)\n",
    "            distances.append(dist)\n",
    "            \n",
    "        indices=np.argsort(distances)[:k]\n",
    "        k_nearest_labels=train_labels[indices]\n",
    "        #bincount counts freq of k_nearest_labels \n",
    "        #argmax gives index of maximum element in the array\n",
    "        predict=np.bincount(k_nearest_labels).argmax()\n",
    "        #print(k_nearest_labels)\n",
    "        predictions.append(predict)\n",
    "        \n",
    "    return np.array(predictions)\n",
    "\n",
    "train_data=np.array([[1,1],[1,0],[2,2],[4,4],[5,6],[3,4]])\n",
    "train_labels=np.array([0,0,0,1,1,1])\n",
    "test_data=np.array([[2,1],[3,3],[5,5]])\n",
    "k=3\n",
    "\n",
    "\n",
    "predictions1=knn(train_data,train_labels,test_data,k)\n",
    "print(f\"predicted class labels for it are :{predictions1}\")"
   ]
  },
  {
   "cell_type": "code",
   "execution_count": null,
   "id": "af2a20cb",
   "metadata": {},
   "outputs": [],
   "source": []
  }
 ],
 "metadata": {
  "kernelspec": {
   "display_name": "Python 3 (ipykernel)",
   "language": "python",
   "name": "python3"
  },
  "language_info": {
   "codemirror_mode": {
    "name": "ipython",
    "version": 3
   },
   "file_extension": ".py",
   "mimetype": "text/x-python",
   "name": "python",
   "nbconvert_exporter": "python",
   "pygments_lexer": "ipython3",
   "version": "3.10.9"
  }
 },
 "nbformat": 4,
 "nbformat_minor": 5
}
